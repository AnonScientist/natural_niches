{
 "cells": [
  {
   "cell_type": "markdown",
   "metadata": {},
   "source": [
    "# Displaying the Results"
   ]
  },
  {
   "cell_type": "markdown",
   "metadata": {},
   "source": [
    "### Setup"
   ]
  },
  {
   "cell_type": "code",
   "execution_count": null,
   "metadata": {},
   "outputs": [],
   "source": [
    "import os\n",
    "import pickle\n",
    "\n",
    "import numpy as np\n",
    "import matplotlib.pyplot as plt\n",
    "import matplotlib.pylab as plt\n",
    "os.environ[\"JAX_PLATFORMS\"] = \"cpu\"\n",
    "plt.style.use('ggplot')\n",
    "plt.rcParams.update({\n",
    "    'axes.facecolor': '#f7f7f7',    # Set background color of the plot area to white\n",
    "    'figure.facecolor': '#f7f7f7',  # Set background color of the figure to white\n",
    "    'grid.color': 'lightgrey',     # Set grid line color to light grey\n",
    "    'lines.linewidth': 1.0,\n",
    "})"
   ]
  },
  {
   "cell_type": "markdown",
   "metadata": {},
   "source": [
    "## Methods Comparison"
   ]
  },
  {
   "cell_type": "code",
   "execution_count": null,
   "metadata": {},
   "outputs": [],
   "source": [
    "files = [\"natural_niches\", \"cma_es\", \"ga_no_crossover\", \"ga\", \"map_elites\"]\n",
    "names = [\"Natural Niches\", \"CMA-ES\", \"GA without Crossover\", \"GA with Crossover\", \"MAP-Elites\"]\n",
    "\n",
    "def plot(files, names):\n",
    "    plt.figure()\n",
    "    plt.grid(visible=False, axis=\"x\")\n",
    "    plt.ylabel(\"Test Accuracy (%)\")\n",
    "    plt.xlabel(\"# Forward Passes\")\n",
    "\n",
    "    for file, name in zip(files, names):\n",
    "        file_path = os.path.join(\"results\", f\"{file}.pkl\")\n",
    "        if os.path.exists(file_path):        \n",
    "            with open(file_path, \"rb\") as f:\n",
    "                results = pickle.load(f)\n",
    "            x = None\n",
    "            y_list = []\n",
    "            for r in results:\n",
    "                if x is None:\n",
    "                    x = r[\"evals\"]\n",
    "                else:\n",
    "                    assert x == r[\"evals\"], \"All runs should have the same number of evaluations\"\n",
    "                y_list.append(r[\"test_values\"])\n",
    "                \n",
    "            y_list = np.array(y_list) * 100\n",
    "            y_mu = np.mean(y_list, axis=0)\n",
    "            y_stderror = np.std(y_list, axis=0) / np.sqrt(len(y_list))\n",
    "            plt.plot(x, y_mu, label=name)\n",
    "            plt.fill_between(x, y_mu - y_stderror, y_mu + y_stderror, alpha=0.3)\n",
    "        else:\n",
    "            print(f\"File {file_path} does not exist.\")\n",
    "    plt.legend(loc=\"best\")\n",
    "plot(files, names)"
   ]
  },
  {
   "cell_type": "markdown",
   "metadata": {},
   "source": [
    "## Ablation Study"
   ]
  },
  {
   "cell_type": "code",
   "execution_count": null,
   "metadata": {},
   "outputs": [],
   "source": [
    "files = [\"natural_niches\", \"natural_niches_no_splitpoint\", \"natural_niches_no_matchmaker\", \"natural_niches_no_crossover\"]\n",
    "names = [\"Natural Niches\", \"w/o splitpoint\", \"w/o matchmaker\", \"w/o crossover\"]\n",
    "plot(files, names)"
   ]
  }
 ],
 "metadata": {
  "kernelspec": {
   "display_name": "natural_niches",
   "language": "python",
   "name": "python3"
  },
  "language_info": {
   "codemirror_mode": {
    "name": "ipython",
    "version": 3
   },
   "file_extension": ".py",
   "mimetype": "text/x-python",
   "name": "python",
   "nbconvert_exporter": "python",
   "pygments_lexer": "ipython3",
   "version": "3.11.9"
  }
 },
 "nbformat": 4,
 "nbformat_minor": 2
}
